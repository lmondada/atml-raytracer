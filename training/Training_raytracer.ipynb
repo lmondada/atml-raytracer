{
  "nbformat": 4,
  "nbformat_minor": 0,
  "metadata": {
    "colab": {
      "name": "Training_raytracer.ipynb",
      "provenance": [],
      "collapsed_sections": [],
      "mount_file_id": "14SwK4Xz-AmP9nc1KR9n7_0j6plEMIKaz",
      "authorship_tag": "ABX9TyNovWdm26CRK667feSpEmeA",
      "include_colab_link": true
    },
    "kernelspec": {
      "name": "python3",
      "display_name": "Python 3"
    },
    "language_info": {
      "name": "python"
    }
  },
  "cells": [
    {
      "cell_type": "markdown",
      "metadata": {
        "id": "view-in-github",
        "colab_type": "text"
      },
      "source": [
        "<a href=\"https://colab.research.google.com/github/lmondada/Python-Raytracer/blob/master/Training_raytracer.ipynb\" target=\"_parent\"><img src=\"https://colab.research.google.com/assets/colab-badge.svg\" alt=\"Open In Colab\"/></a>"
      ]
    },
    {
      "cell_type": "code",
      "metadata": {
        "colab": {
          "base_uri": "https://localhost:8080/",
          "height": 286
        },
        "id": "Fv2mbp5D61Gk",
        "outputId": "c66e33e6-76c4-4e0d-d782-acf749d8a587"
      },
      "source": [
        "#theta1=1\n",
        "indices=np.where(theta==1)\n",
        "sample_indices= [theta[index] for index in indices]\n",
        "samples_1= [x[index] for index in indices]\n",
        "p_estimated_1, _ = np.histogram(samples_1, bins=4095, range=(0, 4095), density=True)\n",
        "\n",
        "fig, ax = plt.subplots()\n",
        "ax.step(range(len(p_estimated_1)), p_estimated_1,c='r', lw=1.5,label=r'$p(x|\\theta_1)$')\n",
        "ax.set_ylim(-0.001,0.001)\n",
        "ax.set_xlim(0,50)"
      ],
      "execution_count": 7,
      "outputs": [
        {
          "output_type": "execute_result",
          "data": {
            "text/plain": [
              "(0.0, 50.0)"
            ]
          },
          "metadata": {
            "tags": []
          },
          "execution_count": 7
        },
        {
          "output_type": "display_data",
          "data": {
            "image/png": "[encoded data removed]",
            "text/plain": [
              "<Figure size 432x288 with 1 Axes>"
            ]
          },
          "metadata": {
            "tags": [],
            "needs_background": "light"
          }
        }
      ]
    },
    {
      "cell_type": "code",
      "metadata": {
        "colab": {
          "base_uri": "https://localhost:8080/",
          "height": 286
        },
        "id": "6f6V3Xmm8hfg",
        "outputId": "0cc58d2f-b120-4648-9e53-3310dc2d7cf9"
      },
      "source": [
        "#theta0=2\n",
        "indices0=np.where(theta==2)\n",
        "sample_indices0= [theta[index] for index in indices0]\n",
        "samples_0= [x[index] for index in indices0]\n",
        "p_estimated_0, _ = np.histogram(samples_0, bins=4095, range=(0, 4095), density=True)\n",
        "\n",
        "fig, ax = plt.subplots()\n",
        "ax.step(range(len(p_estimated_0)), p_estimated_0,c='r', lw=1.5,label=r'$p(x|\\theta_0)$')\n",
        "ax.set_ylim(-0.001,0.001)\n",
        "ax.set_xlim(0,50)\n"
      ],
      "execution_count": 6,
      "outputs": [
        {
          "output_type": "execute_result",
          "data": {
            "text/plain": [
              "(0.0, 50.0)"
            ]
          },
          "metadata": {
            "tags": []
          },
          "execution_count": 6
        },
        {
          "output_type": "display_data",
          "data": {
            "image/png": "[encoded data removed]",
            "text/plain": [
              "<Figure size 432x288 with 1 Axes>"
            ]
          },
          "metadata": {
            "tags": [],
            "needs_background": "light"
          }
        }
      ]
    },
    {
      "cell_type": "code",
      "metadata": {
        "colab": {
          "base_uri": "https://localhost:8080/",
          "height": 269
        },
        "id": "kCiJVHFq-fLr",
        "outputId": "9d0aabcb-0253-4f28-f166-8cf663de5eaf"
      },
      "source": [
        "fig, ax = plt.subplots()\n",
        "ax.step(range(len(p_estimated_0)), p_estimated_0,\n",
        "         c='r', lw=1.5,\n",
        "         label=r'$p(x|\\theta_0)$')\n",
        "ax.step(range(len(p_estimated_0)), p_estimated_1,\n",
        "         c='b', lw=1.5, \n",
        "         label=r'$p(x|\\theta_1)$')\n",
        "\n",
        "ax.set_ylim(-0.001,0.001)\n",
        "ax.set_xlim(0,50)\n",
        "ax.legend()\n",
        "plt.show()\n",
        "#x-axis=x\n",
        "#y-axis=p(x)"
      ],
      "execution_count": 57,
      "outputs": [
        {
          "output_type": "display_data",
          "data": {
            "image/png": "[encoded data removed]",
            "text/plain": [
              "<Figure size 432x288 with 1 Axes>"
            ]
          },
          "metadata": {
            "tags": [],
            "needs_background": "light"
          }
        }
      ]
    },
    {
      "cell_type": "code",
      "metadata": {
        "id": "5Yune66UesFD"
      },
      "source": [
        "import numpy as np\n",
        "import random\n",
        "from itertools import product\n",
        "%matplotlib inline\n",
        "import matplotlib.pyplot as plt\n",
        "\n",
        "import tensorflow as tf\n",
        "\n",
        "import keras.backend as K\n",
        "from keras.models import Model\n",
        "from keras.layers import Input, Dense, Lambda, dot, concatenate\n",
        "from keras.optimizers import Adam\n",
        "from keras.losses import mean_squared_error\n",
        "from keras.utils import to_categorical\n",
        "import pandas as pd\n",
        "\n",
        "#loading the data\n",
        "\n",
        "data = pd.read_csv (r'/content/all_rays_nreal3.csv')\n",
        "data.columns\n",
        "# Index(['pixel_index', 'color', 'purity', 'n_real', 'n_imag', 'log_p_z',\n",
        "       #'log_p_z_ref', 'joint_score_p', 'joint_score_ni', 'joint_score_nr',\n",
        "       #'joint_score_ref_p', 'joint_score_ref_nr', 'joint_score_ref_ni'],dtype='object')\n",
        "x=data['pixel_index']\n",
        "color=data['color']\n",
        "purity=data['purity']\n",
        "theta=data['n_real']\n",
        "n_imag=data['n_imag']\n",
        "log_p_z=data['log_p_z']\n",
        "log_p_z_ref=data['log_p_z_ref']\n",
        "\n",
        "#joint_score_p\n",
        "js=data[\"joint_score_p\"].apply(lambda x: format(x, 'f'))\n",
        "js=js.values\n",
        "joint_score=list(pd.to_numeric(js))\n",
        "#joint_score_ni\n",
        "js_i=data[\"joint_score_ni\"].apply(lambda x: format(x, 'f'))\n",
        "js_i=js_i.values\n",
        "joint_score_ni=list(pd.to_numeric(js_i))\n",
        "#joint_score_nr\n",
        "js_r=data[\"joint_score_nr\"].apply(lambda x: format(x, 'f'))\n",
        "js_r=js_r.values\n",
        "joint_score_nr=list(pd.to_numeric(js_r))\n",
        "\n",
        "#joint_score_ref_p\n",
        "data['joint_score_ref_p'] = data['joint_score_ref_p'].replace(np.nan, 0)\n",
        "js_ref=data[\"joint_score_ref_p\"].apply(lambda x: format(x, 'f'))\n",
        "js_ref=js_ref.values\n",
        "joint_score_ref_p=list(pd.to_numeric(js_ref))\n",
        "#js_ref=np.where(np.isnan(js_ref), 0, js_ref)\n",
        "len(joint_score_ref_p)\n",
        "\n",
        "#joint_score_ref_ni\n",
        "data['joint_score_ref_ni'] = data['joint_score_ref_ni'].replace(np.nan, 0)\n",
        "js_i_ref=data[\"joint_score_ref_ni\"].apply(lambda x: format(x, 'f'))\n",
        "js_i_ref=js_i_ref.values\n",
        "joint_score_ref_ni=list(pd.to_numeric(js_i_ref))\n",
        "#joint_score_nr\n",
        "data['joint_score_ref_nr'] = data['joint_score_ref_nr'].replace(np.nan, 0)\n",
        "js_r_ref=data[\"joint_score_ref_nr\"].apply(lambda x: format(x, 'f'))\n",
        "js_r_ref=js_r_ref.values\n",
        "joint_score_ref_nr=list(pd.to_numeric(js_r_ref))\n",
        "#image size=64*64 so the observable range is 4096 pixels\n",
        "\n",
        "n_positions=4096\n",
        "n_nails=4095 #n_positions-1\n",
        "n_features = 1 \n",
        "hidden_size = 10\n",
        "n_outputs = n_nails\n",
        "batch_size = 16\n",
        "n_epochs = 50\n",
        "callback = tf.keras.callbacks.EarlyStopping(monitor='loss', patience=5)\n",
        "\n",
        "import random\n",
        "def get_unique_indices(iterable, N):\n",
        "  seen = set()\n",
        "  for e in iterable:\n",
        "        if e in seen:\n",
        "            continue\n",
        "        seen.add(e)\n",
        "        yield e\n",
        "        if len(seen) == N:\n",
        "           return \n",
        "def draw(n_samples):\n",
        "\n",
        "  all_x = []\n",
        "  all_t_xz = []\n",
        "  all_thetas = []\n",
        "#getting the unique indices(not-repeating)\n",
        "  indices=np.where(np.logical_and(theta>0.5, theta<2.2))\n",
        "  indices = list(get_unique_indices(indices[0], 80000))\n",
        "  rand_ind=[]\n",
        "  for i in range(n_samples):\n",
        "    unique=random.choice(indices)\n",
        "    rand_ind.append(unique)\n",
        "\n",
        "  all_thetas= [theta[index] for index in rand_ind]\n",
        "  all_x= [x[index] for index in rand_ind]\n",
        "  all_t_xz= [joint_score_nr[index] for index in rand_ind]\n",
        "  all_t_xz_ref= [joint_score_nr[index] for index in rand_ind]\n",
        "\n",
        "  all_x = np.array(all_x).reshape(-1, 1)\n",
        "  all_x = to_categorical(all_x, num_classes=4095)\n",
        "  all_t_xz = np.array(all_t_xz).reshape(-1, 1)\n",
        "  all_thetas = np.array(all_thetas).reshape(-1, 1)\n",
        "  all_t_xz_ref=np.array(all_t_xz_ref).reshape(-1,1)\n",
        "  return all_x,all_thetas,all_t_xz,all_t_xz_ref\n",
        "\n",
        "def make_nde(lr=0.001):   \n",
        "    theta = Input(shape=(1,))\n",
        "    h = Dense(hidden_size, activation=\"tanh\")(theta)\n",
        "    phat_theta = Dense(n_outputs, activation=\"softmax\")(h)\n",
        "    \n",
        "    model = Model(inputs=[theta], outputs=[phat_theta])\n",
        "    opt = Adam(lr=lr)\n",
        "    model.compile(loss=[\"categorical_crossentropy\"], optimizer=opt)\n",
        "    \n",
        "    return model\n",
        "#SCANDAL\n",
        "def make_scandal(lr=0.001):\n",
        "    theta = Input(shape=(1,))\n",
        "    h = Dense(hidden_size, activation=\"tanh\")(theta)\n",
        "    phat_theta = Dense(n_outputs, activation=\"softmax\")(h)\n",
        "    \n",
        "    x = Input(shape=(n_outputs,))\n",
        "    phat_x_theta = dot([x, phat_theta], axes=1) \n",
        "    t_x = Lambda(lambda exp: K.gradients(K.log(exp[0]), [exp[1]])[0], \n",
        "                 output_shape=(n_features,))([phat_x_theta, theta])\n",
        "    \n",
        "    model = Model(inputs=[theta, x], outputs=[phat_theta, t_x])\n",
        "    opt = Adam(lr=lr)\n",
        "    model.compile(loss=[\"categorical_crossentropy\", \"mse\"], optimizer=opt)\n",
        "    \n",
        "    return model\n"
      ],
      "execution_count": 4,
      "outputs": []
    },
    {
      "cell_type": "code",
      "metadata": {
        "id": "usMDQ-MiZ-XA"
      },
      "source": [
        "x,theta,t_xz,t_xz_ref = draw(30000)\n",
        "\n",
        "print(x.shape,theta.shape,t_xz.shape)"
      ],
      "execution_count": null,
      "outputs": []
    },
    {
      "cell_type": "code",
      "metadata": {
        "id": "-y-tQaqsqFRR"
      },
      "source": [
        "#NDE\n",
        "callback = tf.keras.callbacks.EarlyStopping(monitor='loss', patience=5)\n",
        "nde = make_nde()\n",
        "nde.fit(\n",
        "    theta, x,\n",
        "    batch_size=batch_size, epochs=n_epochs, verbose=1,callbacks=[callback])"
      ],
      "execution_count": null,
      "outputs": []
    },
    {
      "cell_type": "code",
      "metadata": {
        "id": "o0tr-Hj-O30j"
      },
      "source": [
        "#SCANDAL\n",
        "scandal=make_scandal()\n",
        "scandal.fit(\n",
        "    [theta, x],\n",
        "    [x, t_xz],\n",
        "    batch_size=batch_size, epochs=n_epochs, verbose=1, callbacks=[callback]\n",
        ")"
      ],
      "execution_count": null,
      "outputs": []
    },
    {
      "cell_type": "code",
      "metadata": {
        "colab": {
          "base_uri": "https://localhost:8080/",
          "height": 286
        },
        "id": "Q0Bdho04OSB8",
        "outputId": "d7131836-4367-403f-b5ae-9528ec270b39"
      },
      "source": [
        "s0=np.array(samples_0)\n",
        "s0[0].shape\n",
        "#predicitng\n",
        "NDE_0=nde.predict(s0[0])\n",
        "#NDE_0[0].shape\n",
        "fig, ax = plt.subplots()\n",
        "ax.step(range(4095), NDE_0[0].ravel(), label=\"NDE\")\n",
        "ax.set_ylim(-0.001,0.003)\n",
        "ax.set_xlim(0,150)\n",
        "plt.show()\n",
        "ax.set_ylabel(r'NDE')\n"
      ],
      "execution_count": 14,
      "outputs": [
        {
          "output_type": "display_data",
          "data": {
            "image/png": "[encoded data removed]",
            "text/plain": [
              "<Figure size 432x288 with 1 Axes>"
            ]
          },
          "metadata": {
            "tags": [],
            "needs_background": "light"
          }
        },
        {
          "output_type": "execute_result",
          "data": {
            "text/plain": [
              "Text(3.200000000000003, 0.5, 'NDE')"
            ]
          },
          "metadata": {
            "tags": []
          },
          "execution_count": 14
        }
      ]
    },
    {
      "cell_type": "code",
      "metadata": {
        "id": "8Y_tWVw5DJ6O"
      },
      "source": [
        "plt.step(range(n_nails), scandal.predict(s0[0]))"
      ],
      "execution_count": null,
      "outputs": []
    },
    {
      "cell_type": "code",
      "metadata": {
        "colab": {
          "base_uri": "https://localhost:8080/",
          "height": 265
        },
        "id": "cvzi4Tcvh0La",
        "outputId": "7be8f043-7559-48b8-c629-3ee9a186b045"
      },
      "source": [
        "Truth=p_estimated_1[0:49]\n",
        "plt.step(range(49), Truth, label=\"Truth\")\n",
        "plt.step(range(49), NDE, label=\"NDE\")\n",
        "plt.step(range(49), SCANDAL, label=\"SCANDAL\")\n",
        "#plt.set_ylim(0.0001,0.0010)\n",
        "plt.legend()\n",
        "plt.show()"
      ],
      "execution_count": 56,
      "outputs": [
        {
          "output_type": "display_data",
          "data": {
            "image/png": "[encoded data removed]",
            "text/plain": [
              "<Figure size 432x288 with 1 Axes>"
            ]
          },
          "metadata": {
            "tags": [],
            "needs_background": "light"
          }
        }
      ]
    },
    {
      "cell_type": "code",
      "metadata": {
        "id": "LrOG1DIoXt9f"
      },
      "source": [
        "#Drawing data for ROLR and RASCAL\n",
        "def draw_ratio(n_samples):\n",
        "   all_x = []\n",
        "   all_log_r_xz = []\n",
        "   all_t_xz_0 = []\n",
        "   all_thetas = []\n",
        "   grid = list(product(np.linspace(0.5,2,7), np.linspace(0.5,2,7)))\n",
        "   n_traces_per_theta =  n_samples// (2 * len(grid))\n",
        "  # draw from theta_0\n",
        "   indices=np.where(np.logical_and(theta>0.5, theta<2.2))\n",
        "   indices = list(get_unique_indices(indices[0], 80000))\n",
        "   rand_ind=[]\n",
        "   for i in range(n_samples):\n",
        "     unique=random.choice(indices)\n",
        "     rand_ind.append(unique)\n",
        "    \n",
        "  # x, log_p_xz_0, log_p_xz_1, t_xz_0\n",
        "  \n",
        "   theta_0= [theta[index] for index in rand_ind]\n",
        "   all_x= [x[index] for index in rand_ind]\n",
        "   all_t_xz= [joint_score_nr[index] for index in rand_ind]\n",
        "   all_log_p_z= [log_p_z[index] for index in rand_ind]\n",
        "   all_log_p_z_ref= [log_p_z_ref[index] for index in rand_ind]\n",
        "        \n",
        "  \n",
        "   all_log_r_xz.append(log_p_z - log_p_z_ref)\n",
        "   for i in range(len(theta_0)):\n",
        "     i=theta_0[i]\n",
        "     all_thetas.append(np.tile(np.array([theta_0, 1.5]), (n_traces_per_theta, 1))) #ref theta=1.5  \n",
        "    # reshape\n",
        "   all_x = np.array(all_x).reshape(-1, 1)\n",
        "   all_x = to_categorical(all_x, num_classes=n_nails)\n",
        "   all_log_r_xz = np.array(all_log_r_xz).reshape(-1, 1)\n",
        "   all_t_xz_0 = np.array(all_t_xz_0).reshape(-1, 1)\n",
        "   all_thetas = np.vstack(all_thetas)\n",
        "   return all_x, all_thetas, all_log_r_xz, all_t_xz\n",
        "#models\n",
        "#ROLR and RASCAL\n",
        "def make_rolr(lr=0.001):\n",
        "    theta0 = Input(shape=(1,))\n",
        "    theta1 = Input(shape=(1,))\n",
        "    thetas = concatenate([theta0, theta1])\n",
        "    \n",
        "    h = Dense(hidden_size, activation=\"tanh\")(thetas)\n",
        "    log_rhat_thetas = Dense(n_outputs, activation=\"linear\")(h)\n",
        "    rhat_thetas = Lambda(lambda exp: K.exp(exp))(log_rhat_thetas)\n",
        "    \n",
        "    x = Input(shape=(n_outputs,))\n",
        "    rhat_x_thetas = dot([x, rhat_thetas], axes=1)\n",
        "    \n",
        "    model = Model(inputs=[theta0, theta1, x], outputs=[rhat_x_thetas])\n",
        "    opt = Adam(lr=lr)\n",
        "    model.compile(loss=[inv_mse], optimizer=opt)\n",
        "    \n",
        "    return model\n",
        "\n",
        "\n",
        "def inv_mse(y_true, y_pred):\n",
        "    inverse_r_loss = mean_squared_error((1./ K.clip(y_true, -10., 10.)),\n",
        "                                               (1./ K.clip(y_pred, -10., 10.)))\n",
        "\n",
        "    return inverse_r_loss\n",
        "\n",
        "\n",
        "def make_rascal(lr=0.001):\n",
        "    theta0 = Input(shape=(1,))\n",
        "    theta1 = Input(shape=(1,))\n",
        "    thetas = concatenate([theta0, theta1])\n",
        "    \n",
        "    h = Dense(hidden_size, activation=\"tanh\")(thetas)\n",
        "    log_rhat_thetas = Dense(n_outputs, activation=\"linear\")(h)\n",
        "    rhat_thetas = Lambda(lambda exp: K.exp(exp))(log_rhat_thetas)\n",
        "    \n",
        "    x = Input(shape=(n_outputs,))\n",
        "    rhat_x_thetas = dot([x, rhat_thetas], axes=1)\n",
        "    \n",
        "    log_rhat_x_theta = dot([x, log_rhat_thetas], axes=1) \n",
        "    t_x_0 = Lambda(lambda exp: K.gradients(exp[0], [exp[1]])[0], \n",
        "                   output_shape=(n_features,))([log_rhat_x_theta, theta0])\n",
        "    \n",
        "    model = Model(inputs=[theta0, theta1, x], outputs=[rhat_x_thetas, t_x_0])\n",
        "    opt = Adam(lr=lr)\n",
        "    model.compile(loss=[inv_mse, \"mse\"], loss_weights=[1.0, 0.5], optimizer=opt)\n",
        "    \n",
        "    return model"
      ],
      "execution_count": 34,
      "outputs": []
    },
    {
      "cell_type": "code",
      "metadata": {
        "colab": {
          "base_uri": "https://localhost:8080/"
        },
        "id": "zXjXd25gaOBN",
        "outputId": "938b6c3b-4b9d-4165-bf3a-cc74c91d7edc"
      },
      "source": [
        "all_x, all_thetas, all_log_r_xz, all_t_xz=draw_ratio(1000)"
      ],
      "execution_count": null,
      "outputs": [
        {
          "output_type": "stream",
          "text": [
            "/usr/local/lib/python3.7/dist-packages/ipykernel_launcher.py:29: VisibleDeprecationWarning: Creating an ndarray from ragged nested sequences (which is a list-or-tuple of lists-or-tuples-or ndarrays with different lengths or shapes) is deprecated. If you meant to do this, you must specify 'dtype=object' when creating the ndarray\n"
          ],
          "name": "stderr"
        }
      ]
    },
    {
      "cell_type": "code",
      "metadata": {
        "id": "nQWmAaaChjVy"
      },
      "source": [
        "rascal = make_rascal()\n",
        "rascal.fit(\n",
        "    [all_thetas[:, 0], all_thetas[:, 1], x], \n",
        "    [np.exp(all_log_r_xz), all_t_xz], \n",
        "    batch_size=batch_size, epochs=n_epochs, verbose=0\n",
        ")"
      ],
      "execution_count": null,
      "outputs": []
    },
    {
      "cell_type": "code",
      "metadata": {
        "id": "HleQUv5QJlVT"
      },
      "source": [
        "rolr = make_rolr()\n",
        "rolr.fit(\n",
        "    [all_thetas[:, 0], all_thetas[:, 1], x], \n",
        "    np.exp(all_log_r_xz),\n",
        "    batch_size=batch_size, epochs=n_epochs, verbose=0\n",
        ")"
      ],
      "execution_count": null,
      "outputs": []
    },
    {
      "cell_type": "code",
      "metadata": {
        "id": "kUSEAjt-ifG7"
      },
      "source": [
        "#Comparison\n",
        "def compute_mse(p_train, p_estimated):\n",
        "    p_ratio_train =  np.log(p_train[0]) - np.log(p_train[1])\n",
        "    p_ratio = np.log(p_estimated[0]) - np.log(p_estimated[1])\n",
        "    mse = p_ratio_train - p_ratio\n",
        "    mse[np.logical_or(np.isinf(mse),np.isnan(mse))] = 0.\n",
        "    mse = np.dot(mse ** 2, p_estimated[1])\n",
        "    \n",
        "    return mse\n",
        "\n",
        "\n",
        "def compute_mse_ratio(ratio, p_estimated, log=True):\n",
        "    p_ratio = np.log(p_estimated[0]) - np.log(p_estimated[1])\n",
        "    \n",
        "    if log:\n",
        "        p_ratio_train = np.log(ratio)\n",
        "    else:\n",
        "        p_ratio_train = ratio\n",
        "        \n",
        "    mse = p_ratio_train - p_ratio\n",
        "    mse[np.logical_or(np.isinf(mse),np.isnan(mse))] = 0.\n",
        "    mse = np.dot(mse ** 2, p_estimated[1])\n",
        "    \n",
        "    return mse"
      ],
      "execution_count": null,
      "outputs": []
    },
    {
      "cell_type": "code",
      "metadata": {
        "colab": {
          "base_uri": "https://localhost:8080/",
          "height": 476
        },
        "id": "q8TEA00cWIAm",
        "outputId": "f6632939-f830-4bc5-9fcf-23536e5fb4ca"
      },
      "source": [
        "#losses gathered separately\n",
        "from matplotlib import pyplot as plt\n",
        "SCANDAL=[16.86,16.45,15.98,15.94,15.5,15.0,14.89,14.17,13.64,13.1,12.86,12.53,12.04,11.6,10.90,10.5,10.0,9.57,9.16,8.73,8.46,8.32,8.30]\n",
        "NDE=[8.2,7.7,7.6,7.59,7.55,7.54,7.53,7.54,7.53,7.53,7.53,7.52,7.52,7.52,7.51,7.50,7.50,7.50,7.49,7.49,7.46,7.46,7.46]\n",
        "n=range(23)\n",
        "# plotting the NDE and SCANDAL\n",
        "plt.plot(n, NDE, label = \"NDE\")\n",
        "plt.plot(n, SCANDAL, label = \"SCANDAL\")\n",
        "plt.xlabel('epochs')\n",
        "# Set the y axis label of the current axis.\n",
        "plt.ylabel('loss')\n",
        "plt.legend()\n",
        "# Display a figure.\n",
        "plt.show()\n",
        "plt.set_ylim(0,10)\n",
        "plt.set_xlim(0,35)\n"
      ],
      "execution_count": 23,
      "outputs": [
        {
          "output_type": "display_data",
          "data": {
            "image/png": "[encoded data removed]",
            "text/plain": [
              "<Figure size 432x288 with 1 Axes>"
            ]
          },
          "metadata": {
            "tags": [],
            "needs_background": "light"
          }
        },
        {
          "output_type": "error",
          "ename": "AttributeError",
          "evalue": "ignored",
          "traceback": [
            "\u001b[0;31m---------------------------------------------------------------------------\u001b[0m",
            "\u001b[0;31mAttributeError\u001b[0m                            Traceback (most recent call last)",
            "\u001b[0;32m<ipython-input-23-db31c864d395>\u001b[0m in \u001b[0;36m<module>\u001b[0;34m()\u001b[0m\n\u001b[1;32m     12\u001b[0m \u001b[0;31m# Display a figure.\u001b[0m\u001b[0;34m\u001b[0m\u001b[0;34m\u001b[0m\u001b[0;34m\u001b[0m\u001b[0m\n\u001b[1;32m     13\u001b[0m \u001b[0mplt\u001b[0m\u001b[0;34m.\u001b[0m\u001b[0mshow\u001b[0m\u001b[0;34m(\u001b[0m\u001b[0;34m)\u001b[0m\u001b[0;34m\u001b[0m\u001b[0;34m\u001b[0m\u001b[0m\n\u001b[0;32m---> 14\u001b[0;31m \u001b[0mplt\u001b[0m\u001b[0;34m.\u001b[0m\u001b[0mset_ylim\u001b[0m\u001b[0;34m(\u001b[0m\u001b[0;36m0\u001b[0m\u001b[0;34m,\u001b[0m\u001b[0;36m10\u001b[0m\u001b[0;34m)\u001b[0m\u001b[0;34m\u001b[0m\u001b[0;34m\u001b[0m\u001b[0m\n\u001b[0m\u001b[1;32m     15\u001b[0m \u001b[0mplt\u001b[0m\u001b[0;34m.\u001b[0m\u001b[0mset_xlim\u001b[0m\u001b[0;34m(\u001b[0m\u001b[0;36m0\u001b[0m\u001b[0;34m,\u001b[0m\u001b[0;36m35\u001b[0m\u001b[0;34m)\u001b[0m\u001b[0;34m\u001b[0m\u001b[0;34m\u001b[0m\u001b[0m\n",
            "\u001b[0;31mAttributeError\u001b[0m: module 'matplotlib.pyplot' has no attribute 'set_ylim'"
          ]
        }
      ]
    }
  ]
}